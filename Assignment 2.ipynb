{
 "cells": [
  {
   "cell_type": "markdown",
   "metadata": {},
   "source": [
    "# Assignment 2\n",
    "\n",
    "## Part 1"
   ]
  },
  {
   "cell_type": "code",
   "execution_count": 1,
   "metadata": {},
   "outputs": [],
   "source": [
    "%load_ext autoreload\n",
    "%autoreload"
   ]
  },
  {
   "cell_type": "code",
   "execution_count": 2,
   "metadata": {},
   "outputs": [],
   "source": [
    "import gym\n",
    "import numpy as np\n",
    "from control_algos import *\n",
    "import matplotlib.pyplot as plt"
   ]
  },
  {
   "cell_type": "markdown",
   "metadata": {},
   "source": [
    "We can set up the environment and set the experiment parameters."
   ]
  },
  {
   "cell_type": "code",
   "execution_count": 3,
   "metadata": {},
   "outputs": [],
   "source": [
    "env = gym.make(\"Taxi-v2\")\n",
    "\n",
    "num_runs = 10\n",
    "num_segments = 100\n",
    "num_episodes = 10"
   ]
  },
  {
   "cell_type": "markdown",
   "metadata": {},
   "source": [
    "Define a function to run our experiments..."
   ]
  },
  {
   "cell_type": "code",
   "execution_count": 4,
   "metadata": {},
   "outputs": [],
   "source": [
    "def run_experiment(num_runs, num_segments,num_episodes,env, controller, learning_rate, temp):\n",
    "    # Hard coding discount factor for experiment\n",
    "    algorithm = controller(0.9,env.observation_space.n, env.action_space.n,  temp, learning_rate)\n",
    "    train_returns = 0\n",
    "    test_returns = 0\n",
    "    for run in range(num_runs):\n",
    "        for segment in range(num_segments):\n",
    "            for training_episode in range(num_episodes):\n",
    "                # Sample S,A to start episode\n",
    "                s = env.reset()\n",
    "                a = algorithm.sample_action(s)\n",
    "                done = False\n",
    "                while not done:\n",
    "                    observation, reward, done, _ = env.step(a)\n",
    "                    next_a = algorithm.sample_action(s) \n",
    "                    algorithm.backup_state_action_values(s,a, reward, observation, next_a) \n",
    "                    if segment == num_segments - 1:\n",
    "                        train_returns+=reward # No discounting for now...\n",
    "                    s, a = observation, next_a\n",
    "            # Run a test episode\n",
    "            s = env.reset()\n",
    "            a = algorithm.optimal_policy(s)\n",
    "            done = False\n",
    "            while not done:\n",
    "                observation, reward, done, _ = env.step(a)\n",
    "                next_a = algorithm.optimal_policy(s)\n",
    "                if segment == num_segments - 1:\n",
    "                    test_returns+=reward            \n",
    "                s, a = observation, next_a\n",
    "    return train_returns/(num_runs*num_episodes), test_returns/num_runs"
   ]
  },
  {
   "cell_type": "markdown",
   "metadata": {},
   "source": [
    "### Hyper-parameter initialization"
   ]
  },
  {
   "cell_type": "code",
   "execution_count": 5,
   "metadata": {},
   "outputs": [],
   "source": [
    "lr = [0.01,0.1,0.5]\n",
    "temperatures = [0.1,0.5,1]\n",
    "algos = [Sarsa, QLearning, ExpectedSarsa]\n",
    "\n",
    "params = [(a,l,t) for l in lr for t in temperatures for a in algos]"
   ]
  },
  {
   "cell_type": "markdown",
   "metadata": {},
   "source": [
    "###  Run experiments and store results"
   ]
  },
  {
   "cell_type": "code",
   "execution_count": null,
   "metadata": {},
   "outputs": [],
   "source": [
    "train_results_dict = {}\n",
    "test_results_dict = {}\n",
    "for p in params:\n",
    "    train_results, test_results = run_experiment(num_runs, num_segments, num_episodes,env,*p)\n",
    "    train_results_dict[p], test_results_dict[p] = train_results, test_results"
   ]
  },
  {
   "cell_type": "code",
   "execution_count": null,
   "metadata": {},
   "outputs": [],
   "source": [
    "# Re-format results for convenient plotting\n",
    "\n",
    "train_algo_results = [{},{},{}] #Goes sarsa, qlearning, expectedsarsa\n",
    "test_algo_results = [{},{},{}]\n",
    "for i in range(len(algos)):\n",
    "    for t in temperatures:\n",
    "        train_algo_results[i][t] = []\n",
    "        test_algo_results[i][t] = []\n",
    "        for l in lr:\n",
    "            train_algo_results[i][t].append(train_results_dict[(algos[i],l,t)])\n",
    "            test_algo_results[i][t].append(test_results_dict[(algos[i],l,t)])"
   ]
  },
  {
   "cell_type": "markdown",
   "metadata": {},
   "source": [
    "### Plot figures from training"
   ]
  },
  {
   "cell_type": "code",
   "execution_count": null,
   "metadata": {},
   "outputs": [],
   "source": [
    "title_map = {0:'Sarsa', 1: 'Q-Learning', 2:'Expected sarsa'}\n",
    "fig, axes  = plt.subplots(1,3,figsize=(20,5))\n",
    "for i in range(len(algos)):\n",
    "    ax = axes[i]\n",
    "    for t in temperatures:\n",
    "        ax.set_title(title_map[i])\n",
    "        ax.plot(lr, train_algo_results[i][t])\n",
    "        ax.legend([0.1,0.5,1], title='Temperature')\n",
    "        ax.set_xlabel('Learning rate')\n",
    "        ax.set_ylabel('Average reward')"
   ]
  },
  {
   "cell_type": "markdown",
   "metadata": {},
   "source": [
    "### Plot figures from testing"
   ]
  },
  {
   "cell_type": "code",
   "execution_count": null,
   "metadata": {},
   "outputs": [],
   "source": [
    "fig, axes  = plt.subplots(1,3,figsize=(20,5))\n",
    "for i in range(len(algos)):\n",
    "    ax = axes[i]\n",
    "    for t in temperatures:\n",
    "        ax.set_title(title_map[i])\n",
    "        ax.plot(lr, test_algo_results[i][t])\n",
    "        ax.legend([0.1,0.5,1], title='Temperature')\n",
    "        ax.set_xlabel('Learning rate')\n",
    "        ax.set_ylabel('Average reward')"
   ]
  },
  {
   "cell_type": "markdown",
   "metadata": {},
   "source": [
    "### Learning Curves for best parameters\n",
    "### TODO"
   ]
  },
  {
   "cell_type": "code",
   "execution_count": null,
   "metadata": {
    "collapsed": true
   },
   "outputs": [],
   "source": []
  }
 ],
 "metadata": {
  "kernelspec": {
   "display_name": "Python [conda env:fondements_ml]",
   "language": "python",
   "name": "conda-env-fondements_ml-py"
  },
  "language_info": {
   "codemirror_mode": {
    "name": "ipython",
    "version": 3
   },
   "file_extension": ".py",
   "mimetype": "text/x-python",
   "name": "python",
   "nbconvert_exporter": "python",
   "pygments_lexer": "ipython3",
   "version": "3.6.8"
  }
 },
 "nbformat": 4,
 "nbformat_minor": 1
}
